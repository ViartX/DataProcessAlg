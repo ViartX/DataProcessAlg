{
 "cells": [
  {
   "cell_type": "code",
   "execution_count": 20,
   "id": "70220de6",
   "metadata": {},
   "outputs": [],
   "source": [
    "import numpy as np\n",
    "from sklearn import datasets\n",
    "import matplotlib.pyplot as plt\n",
    "\n",
    "%matplotlib inline"
   ]
  },
  {
   "cell_type": "code",
   "execution_count": 21,
   "id": "1395d9aa",
   "metadata": {},
   "outputs": [],
   "source": [
    "# сгенерируем набор данных\n",
    "data, target, coef = datasets.make_regression(n_samples=10000, n_features = 2, n_informative = 2, n_targets = 1, \n",
    "                                              noise = 5, coef = True, random_state = 42)"
   ]
  },
  {
   "cell_type": "code",
   "execution_count": 22,
   "id": "f14b05a3",
   "metadata": {},
   "outputs": [],
   "source": [
    "# Получим средние значения и стандартное отклонение по столбцам\n",
    " \n",
    "means = np.mean(data, axis=0)\n",
    "stds = np.std(data, axis=0)\n",
    "# параметр axis указывается для вычисления значений по столбцам, а не по всему массиву\n",
    "#(см. документацию в разделе источников)\n",
    " \n",
    "# вычтем каждое значение признака из среднего и поделим на стандартное отклонение\n",
    "for i in range(data.shape[0]):\n",
    "    for j in range(data.shape[1]):\n",
    "        data[i][j] = (data[i][j] - means[j])/stds[j]"
   ]
  },
  {
   "cell_type": "code",
   "execution_count": 23,
   "id": "929fd951",
   "metadata": {},
   "outputs": [],
   "source": [
    "# реализуем функцию, определяющую среднеквадратичную ошибку\n",
    "def mserror(X, w, y_pred):\n",
    "    y = X.dot(w)\n",
    "    return (sum((y - y_pred)**2)) / len(y)"
   ]
  },
  {
   "cell_type": "code",
   "execution_count": 42,
   "id": "566d23e6",
   "metadata": {},
   "outputs": [
    {
     "name": "stdout",
     "output_type": "stream",
     "text": [
      "Число итераций:  156\n",
      "В случае использования стохастического градиентного спуска функционал ошибки составляет 51.1561\n"
     ]
    }
   ],
   "source": [
    "# инициализируем начальный вектор весов\n",
    "w = np.zeros(2)\n",
    " \n",
    "# список векторов весов после каждой итерации\n",
    "w_list = [w.copy()]\n",
    " \n",
    "# список значений ошибок после каждой итерации\n",
    "errors_stoh = []\n",
    " \n",
    "# шаг градиентного спуска\n",
    "eta = 0.01\n",
    " \n",
    "# максимальное число итераций\n",
    "#max_iter = 1e5\n",
    "max_iter = 1e3\n",
    "    \n",
    "# критерий сходимости (разница весов, при которой алгоритм останавливается)\n",
    "min_weight_dist = 1e-3\n",
    " \n",
    "# зададим начальную разницу весов большим числом\n",
    "weight_dist = np.inf\n",
    " \n",
    "# коэффициенты регуляризации    \n",
    "l1 = 0\n",
    "l2 = 0  \n",
    "    \n",
    "# счетчик итераций\n",
    "iter_num = 0\n",
    " \n",
    "np.random.seed(1234)\n",
    "\n",
    "n = data.shape[0]\n",
    " \n",
    "# ход градиентного спуска\n",
    "while weight_dist > min_weight_dist and iter_num < max_iter:\n",
    "    \n",
    "    # генерируем случайный индекс объекта выборки\n",
    "    train_ind = np.random.randint(n)\n",
    "    x_i = data[train_ind, :].reshape(1, data.shape[1])    \n",
    "    y_i = [target[train_ind]]\n",
    "    \n",
    "    new_w = w - 2 * eta * np.dot(x_i.T, (np.dot(x_i, w) - y_i)) + l1 * np.sign(w) + 2 * l2 * w \n",
    " \n",
    "    weight_dist = np.linalg.norm(new_w - w, ord=2)\n",
    "    \n",
    "    w_list.append(new_w.copy())\n",
    "    errors_stoh.append(mserror(data, new_w, target))\n",
    "    \n",
    "    iter_num += 1\n",
    "    w = new_w\n",
    "    \n",
    "w_list = np.array(w_list)\n",
    "\n",
    "print(\"Число итераций: \",iter_num) \n",
    "print(f'В случае использования стохастического градиентного спуска функционал ошибки составляет {round(errors_stoh[-1], 4)}')"
   ]
  },
  {
   "cell_type": "code",
   "execution_count": 37,
   "id": "06295aba",
   "metadata": {
    "scrolled": true
   },
   "outputs": [
    {
     "data": {
      "text/plain": [
       "Text(0, 0.5, 'MSE')"
      ]
     },
     "execution_count": 37,
     "metadata": {},
     "output_type": "execute_result"
    },
    {
     "data": {
      "image/png": "[encoded data removed]",
      "text/plain": [
       "<Figure size 432x288 with 1 Axes>"
      ]
     },
     "metadata": {
      "needs_background": "light"
     },
     "output_type": "display_data"
    }
   ],
   "source": [
    "# Визуализируем изменение функционала ошибки стохастического градиентного спуска\n",
    "plt.plot(range(len(errors_stoh)), errors_stoh)\n",
    "plt.title('MSE')\n",
    "plt.xlabel('Iteration number')\n",
    "plt.ylabel('MSE')"
   ]
  },
  {
   "cell_type": "code",
   "execution_count": 8,
   "id": "95ca4604",
   "metadata": {},
   "outputs": [],
   "source": [
    "def calc_mse(y, y_pred):\n",
    "    err = np.mean((y - y_pred)**2)\n",
    "    return err\n",
    "\n",
    "def calc_mae(y, y_pred):\n",
    "    err = np.mean(np.abs(y - y_pred))\n",
    "    return err"
   ]
  },
  {
   "cell_type": "code",
   "execution_count": 38,
   "id": "77c8d2f7",
   "metadata": {},
   "outputs": [
    {
     "name": "stdout",
     "output_type": "stream",
     "text": [
      "Число итераций:  377\n",
      "В случае использования градиентного спуска функционал ошибки составляет 25.1007\n"
     ]
    }
   ],
   "source": [
    "# инициализируем начальный вектор весов\n",
    "w = np.zeros(2)\n",
    " \n",
    "# список векторов весов после каждой итерации\n",
    "w_list = [w.copy()]\n",
    " \n",
    "# список значений ошибок после каждой итерации\n",
    "errors_grad = []\n",
    " \n",
    "# шаг градиентного спуска\n",
    "eta = 0.01\n",
    " \n",
    "# максимальное число итераций\n",
    "#max_iter = 1e5\n",
    "max_iter = 1e3\n",
    "    \n",
    "# критерий сходимости (разница весов, при которой алгоритм останавливается)\n",
    "min_weight_dist = 1e-3\n",
    "\n",
    "# коэффициенты регуляризации  \n",
    "l1 = 0\n",
    "l2 = 0\n",
    " \n",
    "# зададим начальную разницу весов большим числом\n",
    "weight_dist = np.inf\n",
    " \n",
    "# счетчик итераций\n",
    "iter_num = 0\n",
    " \n",
    "np.random.seed(1234)\n",
    " \n",
    "# ход градиентного спуска\n",
    "while weight_dist > min_weight_dist and iter_num < max_iter:\n",
    "    \n",
    "    #new_w = w - 2 * eta * np.dot(data.T, (np.dot(data, w) - target) ) / target.shape[0]\n",
    "    \n",
    "    new_w = w - 2 * eta * np.dot(data.T, (np.dot(data, w) - target) ) / data.shape[0] + l1 * np.sign(w) + 2* l2 * w \n",
    "    \n",
    "    weight_dist = np.linalg.norm(new_w - w, ord=2)\n",
    "    \n",
    "    w_list.append(new_w.copy())\n",
    "    errors_grad.append(mserror(data, new_w, target))\n",
    "    \n",
    "    iter_num += 1\n",
    "    w = new_w\n",
    "    \n",
    "w_list = np.array(w_list)\n",
    "\n",
    "print(\"Число итераций: \",iter_num) \n",
    "print(f'В случае использования градиентного спуска функционал ошибки составляет {round(errors_grad[-1], 4)}')"
   ]
  },
  {
   "cell_type": "code",
   "execution_count": 39,
   "id": "03c502a4",
   "metadata": {},
   "outputs": [
    {
     "data": {
      "text/plain": [
       "Text(0, 0.5, 'MSE')"
      ]
     },
     "execution_count": 39,
     "metadata": {},
     "output_type": "execute_result"
    },
    {
     "data": {
      "image/png": "[encoded data removed]",
      "text/plain": [
       "<Figure size 432x288 with 1 Axes>"
      ]
     },
     "metadata": {
      "needs_background": "light"
     },
     "output_type": "display_data"
    }
   ],
   "source": [
    "# Визуализируем изменение функционала ошибки градиентного спуска\n",
    "plt.plot(range(len(errors_grad)), errors_grad)\n",
    "plt.title('MSE')\n",
    "plt.xlabel('Iteration number')\n",
    "plt.ylabel('MSE')"
   ]
  },
  {
   "cell_type": "code",
   "execution_count": 40,
   "id": "9e6f3ff5",
   "metadata": {},
   "outputs": [
    {
     "data": {
      "text/plain": [
       "Text(0, 0.5, 'MSE')"
      ]
     },
     "execution_count": 40,
     "metadata": {},
     "output_type": "execute_result"
    },
    {
     "data": {
      "image/png": "[encoded data removed]",
      "text/plain": [
       "<Figure size 432x288 with 1 Axes>"
      ]
     },
     "metadata": {
      "needs_background": "light"
     },
     "output_type": "display_data"
    }
   ],
   "source": [
    "# Визуализируем сравнение ошибок\n",
    "plt.plot(range(len(errors_grad)), errors_grad)\n",
    "plt.plot(range(len(errors_stoh)), errors_stoh)\n",
    "plt.title('MSE')\n",
    "plt.xlabel('Iteration number')\n",
    "plt.ylabel('MSE')"
   ]
  },
  {
   "cell_type": "code",
   "execution_count": null,
   "id": "088fe916",
   "metadata": {},
   "outputs": [],
   "source": [
    "'''\n",
    "Выводы:\n",
    "    1. стохастический градиентный спуск сходится на большем числе итераций.\n",
    "    2. Важно правильно подобрать коэффициенты, если min_weight_dist = 1e-6, то стохастический спуск вообще \n",
    "    не сходится на 1000 итераций, вероятно из-за шума. На этом промучился очень долго.\n",
    "    3. Если коэффициенты регуляризации ненулевые - не сходится спуск. Не понятно, почему.\n",
    "'''\n",
    "  "
   ]
  }
 ],
 "metadata": {
  "kernelspec": {
   "display_name": "Python 3",
   "language": "python",
   "name": "python3"
  },
  "language_info": {
   "codemirror_mode": {
    "name": "ipython",
    "version": 3
   },
   "file_extension": ".py",
   "mimetype": "text/x-python",
   "name": "python",
   "nbconvert_exporter": "python",
   "pygments_lexer": "ipython3",
   "version": "3.9.1"
  }
 },
 "nbformat": 4,
 "nbformat_minor": 5
}
