{
 "cells": [
  {
   "cell_type": "code",
   "execution_count": 36,
   "id": "e8f6a912",
   "metadata": {},
   "outputs": [],
   "source": [
    "import numpy as np\n",
    "import matplotlib.pyplot as plt"
   ]
  },
  {
   "cell_type": "code",
   "execution_count": 37,
   "id": "40385b23",
   "metadata": {},
   "outputs": [],
   "source": [
    "%matplotlib inline\n",
    "plt.style.use('seaborn-ticks')\n",
    "plt.rcParams.update({'font.size': 14})"
   ]
  },
  {
   "cell_type": "code",
   "execution_count": 38,
   "id": "8b0b5abf",
   "metadata": {},
   "outputs": [
    {
     "data": {
      "text/plain": [
       "array([[1.00e+00, 1.00e+00, 5.00e+02, 1.00e+00],\n",
       "       [1.00e+00, 1.00e+00, 7.00e+02, 1.00e+00],\n",
       "       [1.00e+00, 2.00e+00, 7.50e+02, 2.00e+00],\n",
       "       [1.00e+00, 1.00e+00, 6.00e+02, 1.00e+00],\n",
       "       [1.00e+00, 3.00e+00, 1.45e+03, 2.00e+00],\n",
       "       [1.00e+00, 0.00e+00, 8.00e+02, 1.00e+00],\n",
       "       [1.00e+00, 5.00e+00, 1.50e+03, 3.00e+00],\n",
       "       [1.00e+00, 1.00e+01, 2.00e+03, 3.00e+00],\n",
       "       [1.00e+00, 1.00e+00, 4.50e+02, 1.00e+00],\n",
       "       [1.00e+00, 2.00e+00, 1.00e+03, 2.00e+00]])"
      ]
     },
     "execution_count": 38,
     "metadata": {},
     "output_type": "execute_result"
    }
   ],
   "source": [
    "X = np.array([[1, 1, 1, 1, 1, 1, 1, 1, 1, 1],\n",
    "              [1, 1, 2, 1, 3, 0, 5, 10, 1, 2],  # стаж репетитора\n",
    "              [500, 700, 750, 600, 1450,        # средняя стоимость занятия\n",
    "               800, 1500, 2000, 450, 1000],\n",
    "              [1, 1, 2, 1, 2, 1, 3, 3, 1, 2]],  # квалификация репетитора\n",
    "              dtype = np.float64).T \n",
    "\n",
    "y = np.array([0, 0, 1, 0, 1, 0, 1, 0, 1, 1]) # поступил или нет ученик на специальность Математика\n",
    "X"
   ]
  },
  {
   "cell_type": "code",
   "execution_count": 39,
   "id": "e252309e",
   "metadata": {},
   "outputs": [
    {
     "data": {
      "text/plain": [
       "array([-0.97958969, -0.56713087, -0.46401617, -0.77336028,  0.97958969,\n",
       "       -0.36090146,  1.08270439,  2.11385144, -1.08270439,  0.05155735])"
      ]
     },
     "execution_count": 39,
     "metadata": {},
     "output_type": "execute_result"
    }
   ],
   "source": [
    "def standard_scaler(x):\n",
    "    res = (x - x.mean()) / x.std()\n",
    "    return res\n",
    "\n",
    "X_st = X.copy()\n",
    "X_st[:, 2] = standard_scaler(X[:, 2])\n",
    "X_st[:, 2]"
   ]
  },
  {
   "cell_type": "code",
   "execution_count": 40,
   "id": "cfcf342f",
   "metadata": {},
   "outputs": [],
   "source": [
    "def sigmoid(x):\n",
    "  return  1/(1+np.exp(-x))"
   ]
  },
  {
   "cell_type": "code",
   "execution_count": 41,
   "id": "b0b3cc2b",
   "metadata": {},
   "outputs": [],
   "source": [
    "# логистическая регрессия\n",
    "def eval_LR_model(X, y, iterations, alpha=1e-4):\n",
    "    np.random.seed(42)\n",
    "    w = np.random.randn(X.shape[1])\n",
    "    n = X.shape[0]\n",
    "    for i in range(1, iterations + 1):\n",
    "        z = np.dot(X, w) # log(p/(1-p))\n",
    "        y_pred = sigmoid(z) # p [0, 1]\n",
    "        err = calc_logloss(y, y_pred)\n",
    "        w -= alpha * (1/n * np.dot((y_pred - y), X))\n",
    "        if i % (iterations / 10) == 0:\n",
    "            print(i, w, err)\n",
    "    return w"
   ]
  },
  {
   "cell_type": "code",
   "execution_count": 61,
   "id": "ebe7898e",
   "metadata": {},
   "outputs": [
    {
     "name": "stdout",
     "output_type": "stream",
     "text": [
      "1000 [-66.16312453  -5.98180042 -18.47328021  53.11963154] 0.06843059019607386\n",
      "2000 [-71.85202389  -6.35927791 -20.18324626  57.42889207] 0.06302517594534543\n",
      "3000 [-77.05366198  -6.69385079 -21.7544236   61.34840071] 0.058522055242266\n",
      "4000 [-81.87758043  -6.9978981  -23.21604637  64.97118242] 0.054657665251133115\n",
      "5000 [-86.39089935  -7.27906729 -24.58592091  68.35426317] 0.051279115507307974\n",
      "6000 [-90.63924013  -7.54197857 -25.8765906   71.53528669] 0.04828778085923328\n",
      "7000 [-94.65599672  -7.78963182 -27.09752458  74.54107443] 0.04561479566655489\n",
      "8000 [-98.46700439  -8.02411839 -28.25621991  77.39193612] 0.04320921188357686\n",
      "9000 [-102.09307979   -8.24699022  -29.35881608   80.10397915] 0.0410317274748385\n",
      "10000 [-105.5515018    -8.45945856  -30.41046576   82.69042412] 0.039051087920068436\n"
     ]
    }
   ],
   "source": [
    "#w = eval_LR_model(X_st, y, 2000, 1e-1)\n",
    "w = eval_LR_model(X_st, y, 10000, 10)`# задание 2. Подобранные параметры"
   ]
  },
  {
   "cell_type": "code",
   "execution_count": 62,
   "id": "accfef87",
   "metadata": {},
   "outputs": [
    {
     "name": "stdout",
     "output_type": "stream",
     "text": [
      "[0.18 0.   1.   0.   0.99 0.   1.   0.   0.83 1.  ]\n",
      "[0 0 1 0 1 0 1 0 1 1]\n",
      "[0 0 1 0 1 0 1 0 1 1]\n"
     ]
    }
   ],
   "source": [
    "y_pred = sigmoid(np.dot(X_st, w))\n",
    "print(y_pred.round(2))\n",
    "print(y)\n",
    "print(np.where(y_pred > 0.5, 1, 0))"
   ]
  },
  {
   "cell_type": "code",
   "execution_count": 44,
   "id": "11dfb3c2",
   "metadata": {},
   "outputs": [],
   "source": [
    "def calc_logloss(y, y_pred):    \n",
    "    #err = np.mean(- y * np.log(y_pred) - (1.0 - y) * np.log(1.0 - y_pred))\n",
    "    # задание 1. Проверка на 0 под логарифмом\n",
    "    err = np.mean(- y * np.log(np.where(y_pred == 0, 1e-10, y_pred )) - (1.0 - y) * np.log(np.where(1.0 - y_pred == 0, 1e-10, 1.0 - y_pred )))\n",
    "    return err"
   ]
  },
  {
   "cell_type": "code",
   "execution_count": 63,
   "id": "cb1a3f39",
   "metadata": {},
   "outputs": [
    {
     "data": {
      "text/plain": [
       "0.039049196910240745"
      ]
     },
     "execution_count": 63,
     "metadata": {},
     "output_type": "execute_result"
    }
   ],
   "source": [
    "calc_logloss(y, y_pred)"
   ]
  },
  {
   "cell_type": "code",
   "execution_count": 66,
   "id": "991b6d29",
   "metadata": {},
   "outputs": [],
   "source": [
    "# задание 3\n",
    "def calc_pred_proba(X, w):\n",
    "    result = sigmoid(np.dot(X, w))\n",
    "    return result"
   ]
  },
  {
   "cell_type": "code",
   "execution_count": 68,
   "id": "425a6681",
   "metadata": {},
   "outputs": [
    {
     "name": "stdout",
     "output_type": "stream",
     "text": [
      "[0.18 0.   1.   0.   0.99 0.   1.   0.   0.83 1.  ]\n"
     ]
    }
   ],
   "source": [
    "print(calc_pred_proba(X_st, w).round(2))"
   ]
  },
  {
   "cell_type": "code",
   "execution_count": 69,
   "id": "032385dd",
   "metadata": {},
   "outputs": [],
   "source": [
    "# задание 4\n",
    "def calc_pred(X, w, delimeter):\n",
    "    return np.where(calc_pred_proba(X, w) >= delimeter, 1, 0)    "
   ]
  },
  {
   "cell_type": "code",
   "execution_count": 72,
   "id": "3fad9262",
   "metadata": {},
   "outputs": [
    {
     "name": "stdout",
     "output_type": "stream",
     "text": [
      "[0 0 1 0 0 0 1 0 0 1]\n"
     ]
    }
   ],
   "source": [
    "print(calc_pred(X_st, w, 0.999).round(2))"
   ]
  }
 ],
 "metadata": {
  "kernelspec": {
   "display_name": "Python 3",
   "language": "python",
   "name": "python3"
  },
  "language_info": {
   "codemirror_mode": {
    "name": "ipython",
    "version": 3
   },
   "file_extension": ".py",
   "mimetype": "text/x-python",
   "name": "python",
   "nbconvert_exporter": "python",
   "pygments_lexer": "ipython3",
   "version": "3.9.1"
  }
 },
 "nbformat": 4,
 "nbformat_minor": 5
}
